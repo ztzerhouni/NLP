{
 "cells": [
  {
   "cell_type": "markdown",
   "metadata": {},
   "source": [
    "# Classifying with Natural Language Processing\n",
    "\n",
    "Today we will be importing data from the \"Happy\" and \"Sad\" subreddits on Reddit and using a model to predict which category the titles of the posts in the subreddits come from."
   ]
  },
  {
   "cell_type": "markdown",
   "metadata": {},
   "source": [
    "# Table of Contents\n",
    "\n",
    "- [Word Count Distribution](#Word-Count-Distribution)\n",
    "- [Multinomial Naive Bayes (Cvec)](#Multinomial-Naive-Bayes-1)\n",
    "- [Multinomial Naive Bayes (Tvec)](#Multinomial-Naive-Bayes-2)\n",
    "- [K Nearest Neighbors (Tvec)](#K-Nearest-Neighbors-Classifier)\n",
    "- [Logistic Regression (Tvec)](#Logistic-Regression)\n",
    "- [Support Vector Classification (Tvec)](#Support-Vector-Classification)\n",
    "- [Random Forest Classifier (Cvec)](#Random-Forest-Classifier)\n",
    "- [Scores of All Models](#Scores-of-All-Models)\n",
    "- [Confusion Matrices](#Confusion-Matrices)"
   ]
  },
  {
   "cell_type": "code",
   "execution_count": 89,
   "metadata": {},
   "outputs": [],
   "source": [
    "# Import required packages\n",
    "import numpy as np\n",
    "import pandas as pd\n",
    "import matplotlib.pyplot as plt\n",
    "import seaborn as sns\n",
    "import time\n",
    "\n",
    "from sklearn.model_selection import train_test_split, GridSearchCV\n",
    "from sklearn.feature_extraction.text import CountVectorizer, TfidfVectorizer\n",
    "from sklearn.pipeline import Pipeline\n",
    "from sklearn.naive_bayes import MultinomialNB\n",
    "from sklearn.metrics import confusion_matrix, plot_confusion_matrix\n",
    "from sklearn.linear_model import LogisticRegression\n",
    "from sklearn.neighbors import KNeighborsClassifier\n",
    "from sklearn.preprocessing import StandardScaler\n",
    "from sklearn.svm import LinearSVC,SVC\n",
    "from sklearn.ensemble import RandomForestClassifier\n",
    "\n",
    "from nltk.corpus import stopwords"
   ]
  },
  {
   "cell_type": "code",
   "execution_count": 2,
   "metadata": {},
   "outputs": [],
   "source": [
    "# Import the relevant csv of reddit data\n",
    "df = pd.read_csv('data/happy_sad_2020_08_25_1902.csv')"
   ]
  },
  {
   "cell_type": "code",
   "execution_count": 3,
   "metadata": {},
   "outputs": [],
   "source": [
    "# Drop NaN rows after checking for nulls. In this case there is only a single entry and it shouldn't affect our data.\n",
    "df.dropna(inplace=True)"
   ]
  },
  {
   "cell_type": "markdown",
   "metadata": {},
   "source": [
    "### Word Count Distribution"
   ]
  },
  {
   "cell_type": "code",
   "execution_count": 4,
   "metadata": {},
   "outputs": [
    {
     "name": "stdout",
     "output_type": "stream",
     "text": [
      "94.0642\n",
      "39.6979697969797\n"
     ]
    }
   ],
   "source": [
    "# Count and visualize title lengths and word counts.\n",
    "# code from Lab 5.02 work on counting string lengths and word counts\n",
    "df['title_length'] = df['title'].str.len()\n",
    "df['title_word_count'] = df['title'].str.split().str.len()\n",
    "\n",
    "print(df[df['target']==1]['title_length'].mean())\n",
    "print(df[df['target']==0]['title_length'].mean())"
   ]
  },
  {
   "cell_type": "code",
   "execution_count": 185,
   "metadata": {},
   "outputs": [
    {
     "data": {
      "image/png": "[encoded data removed]",
      "text/plain": [
       "<Figure size 504x504 with 2 Axes>"
      ]
     },
     "metadata": {},
     "output_type": "display_data"
    }
   ],
   "source": [
    "# Visualize the distribution of Happy word counts versus Sad word counts\n",
    "sns.set(style='white',palette='muted',color_codes=True)\n",
    "\n",
    "f, axes = plt.subplots(1,2, figsize=(7,7), sharex=True, sharey=True)\n",
    "\n",
    "sns.distplot(df[df['target']==1]['title_word_count'],bins=30,kde=False,color='gold', ax=axes[0],axlabel='Happy Word Count')\n",
    "sns.distplot(df[df['target']==0]['title_word_count'],bins=30,kde=False, color='b', ax=axes[1],axlabel='Sad Word Count')\n",
    "plt.suptitle('Happy versus Sad Word Counts')\n",
    "plt.tight_layout()\n",
    "plt.savefig('images/wordcount.png',format='png')"
   ]
  },
  {
   "cell_type": "code",
   "execution_count": 6,
   "metadata": {},
   "outputs": [],
   "source": [
    "# Checking out the baseline accuracy. As we have an almost equal amount of each class \n",
    "# it is expected that it will be about 0.5\n",
    "X = df['title']\n",
    "y = df['target']"
   ]
  },
  {
   "cell_type": "code",
   "execution_count": 101,
   "metadata": {},
   "outputs": [
    {
     "data": {
      "text/plain": [
       "1    0.500025\n",
       "0    0.499975\n",
       "Name: target, dtype: float64"
      ]
     },
     "execution_count": 101,
     "metadata": {},
     "output_type": "execute_result"
    }
   ],
   "source": [
    "# The counts of the target variable are normalized to get the percentage for 1 (happy) and 0 (sad).\n",
    "y.value_counts(normalize=True)"
   ]
  },
  {
   "cell_type": "code",
   "execution_count": 7,
   "metadata": {},
   "outputs": [],
   "source": [
    "# Setting up the train-test-split for our modeling\n",
    "X_train, X_test, y_train, y_test = train_test_split(X,y,\n",
    "                                                    train_size = 0.7,\n",
    "                                                    random_state=42,\n",
    "                                                    shuffle=True,\n",
    "                                                    stratify=y)"
   ]
  },
  {
   "cell_type": "code",
   "execution_count": 9,
   "metadata": {},
   "outputs": [],
   "source": [
    "stops = set(stopwords.words('english')) # Removing stop words for counting the most common words\n",
    "# Using count vectorizer to build a dataframe to count the most frequent words\n",
    "vectorizer = CountVectorizer(analyzer = \"word\",\n",
    "                             tokenizer = None,\n",
    "                             preprocessor = None,\n",
    "                             stop_words = stops,\n",
    "                             max_features = None) "
   ]
  },
  {
   "cell_type": "code",
   "execution_count": 10,
   "metadata": {},
   "outputs": [],
   "source": [
    "vectorized_words = vectorizer.fit(df['title'])\n",
    "word_vector = vectorizer.transform(df['title'])"
   ]
  },
  {
   "cell_type": "code",
   "execution_count": 11,
   "metadata": {},
   "outputs": [],
   "source": [
    "my_words_df = pd.DataFrame(word_vector.toarray(),columns=vectorizer.get_feature_names())"
   ]
  },
  {
   "cell_type": "code",
   "execution_count": 106,
   "metadata": {},
   "outputs": [],
   "source": [
    "#Lesson...5.something\n",
    "# This function with condense the counts of the vectorized dataframe into a sorted list of the \n",
    "# most frequent words.\n",
    "def count_words(my_words_df, rows=5):\n",
    "    # empty dictionary\n",
    "    top_words = {}\n",
    "\n",
    "    # loop through columns\n",
    "    for i in my_words_df.columns:\n",
    "        # save sum of each column in dictionary\n",
    "        top_words[i] =  my_words_df[i].sum()\n",
    "\n",
    "    # top_words to dataframe sorted by highest occurance\n",
    "    most_freq = pd.DataFrame(sorted(top_words.items(), key = lambda x: x[1], reverse = True))\n",
    "    return most_freq"
   ]
  },
  {
   "cell_type": "code",
   "execution_count": 108,
   "metadata": {},
   "outputs": [],
   "source": [
    "word_freq = count_words(my_words_df)"
   ]
  },
  {
   "cell_type": "code",
   "execution_count": 110,
   "metadata": {},
   "outputs": [
    {
     "data": {
      "text/html": [
       "<div>\n",
       "<style scoped>\n",
       "    .dataframe tbody tr th:only-of-type {\n",
       "        vertical-align: middle;\n",
       "    }\n",
       "\n",
       "    .dataframe tbody tr th {\n",
       "        vertical-align: top;\n",
       "    }\n",
       "\n",
       "    .dataframe thead th {\n",
       "        text-align: right;\n",
       "    }\n",
       "</style>\n",
       "<table border=\"1\" class=\"dataframe\">\n",
       "  <thead>\n",
       "    <tr style=\"text-align: right;\">\n",
       "      <th></th>\n",
       "      <th>0</th>\n",
       "      <th>1</th>\n",
       "      <th>2</th>\n",
       "      <th>3</th>\n",
       "      <th>4</th>\n",
       "      <th>5</th>\n",
       "      <th>6</th>\n",
       "      <th>7</th>\n",
       "      <th>8</th>\n",
       "      <th>9</th>\n",
       "      <th>10</th>\n",
       "      <th>11</th>\n",
       "      <th>12</th>\n",
       "      <th>13</th>\n",
       "      <th>14</th>\n",
       "      <th>15</th>\n",
       "      <th>16</th>\n",
       "      <th>17</th>\n",
       "      <th>18</th>\n",
       "      <th>19</th>\n",
       "    </tr>\n",
       "  </thead>\n",
       "  <tbody>\n",
       "    <tr>\n",
       "      <th>0</th>\n",
       "      <td>happy</td>\n",
       "      <td>today</td>\n",
       "      <td>life</td>\n",
       "      <td>sad</td>\n",
       "      <td>got</td>\n",
       "      <td>first</td>\n",
       "      <td>years</td>\n",
       "      <td>day</td>\n",
       "      <td>time</td>\n",
       "      <td>feel</td>\n",
       "      <td>finally</td>\n",
       "      <td>love</td>\n",
       "      <td>like</td>\n",
       "      <td>made</td>\n",
       "      <td>year</td>\n",
       "      <td>one</td>\n",
       "      <td>get</td>\n",
       "      <td>good</td>\n",
       "      <td>best</td>\n",
       "      <td>know</td>\n",
       "    </tr>\n",
       "    <tr>\n",
       "      <th>1</th>\n",
       "      <td>2474</td>\n",
       "      <td>1287</td>\n",
       "      <td>1189</td>\n",
       "      <td>1174</td>\n",
       "      <td>1113</td>\n",
       "      <td>1059</td>\n",
       "      <td>1029</td>\n",
       "      <td>1001</td>\n",
       "      <td>970</td>\n",
       "      <td>959</td>\n",
       "      <td>902</td>\n",
       "      <td>900</td>\n",
       "      <td>853</td>\n",
       "      <td>815</td>\n",
       "      <td>744</td>\n",
       "      <td>718</td>\n",
       "      <td>620</td>\n",
       "      <td>592</td>\n",
       "      <td>575</td>\n",
       "      <td>567</td>\n",
       "    </tr>\n",
       "  </tbody>\n",
       "</table>\n",
       "</div>"
      ],
      "text/plain": [
       "       0      1     2     3     4      5      6     7     8     9       10  \\\n",
       "0  happy  today  life   sad   got  first  years   day  time  feel  finally   \n",
       "1   2474   1287  1189  1174  1113   1059   1029  1001   970   959      902   \n",
       "\n",
       "     11    12    13    14   15   16    17    18    19  \n",
       "0  love  like  made  year  one  get  good  best  know  \n",
       "1   900   853   815   744  718  620   592   575   567  "
      ]
     },
     "execution_count": 110,
     "metadata": {},
     "output_type": "execute_result"
    }
   ],
   "source": [
    "# The top 20 most frequent words.\n",
    "word_freq.head(20).T"
   ]
  },
  {
   "cell_type": "markdown",
   "metadata": {},
   "source": [
    "### Multinomial Naive Bayes 1\n",
    "> Count Vectorizer"
   ]
  },
  {
   "cell_type": "code",
   "execution_count": 45,
   "metadata": {},
   "outputs": [],
   "source": [
    "# The first model attempted is multinomial bayes. Before each model a model_params dictionary is initialized\n",
    "# to store the parameters from each grid search. \n",
    "model_params = {}\n",
    "# The count names the index for the next set of parameters appended to the dictionary.\n",
    "count = 0"
   ]
  },
  {
   "cell_type": "code",
   "execution_count": 52,
   "metadata": {},
   "outputs": [
    {
     "name": "stdout",
     "output_type": "stream",
     "text": [
      "Run time: 3.316492795944214\n"
     ]
    },
    {
     "data": {
      "text/html": [
       "<div>\n",
       "<style scoped>\n",
       "    .dataframe tbody tr th:only-of-type {\n",
       "        vertical-align: middle;\n",
       "    }\n",
       "\n",
       "    .dataframe tbody tr th {\n",
       "        vertical-align: top;\n",
       "    }\n",
       "\n",
       "    .dataframe thead th {\n",
       "        text-align: right;\n",
       "    }\n",
       "</style>\n",
       "<table border=\"1\" class=\"dataframe\">\n",
       "  <thead>\n",
       "    <tr style=\"text-align: right;\">\n",
       "      <th></th>\n",
       "      <th>cvec__max_df</th>\n",
       "      <th>cvec__max_features</th>\n",
       "      <th>cvec__min_df</th>\n",
       "      <th>cvec__ngram_range</th>\n",
       "      <th>cvec__stop_words</th>\n",
       "      <th>score</th>\n",
       "    </tr>\n",
       "  </thead>\n",
       "  <tbody>\n",
       "    <tr>\n",
       "      <th>model_1</th>\n",
       "      <td>0.90</td>\n",
       "      <td>5000</td>\n",
       "      <td>2</td>\n",
       "      <td>(1, 1)</td>\n",
       "      <td>None</td>\n",
       "      <td>0.814989</td>\n",
       "    </tr>\n",
       "    <tr>\n",
       "      <th>model_2</th>\n",
       "      <td>0.85</td>\n",
       "      <td>5000</td>\n",
       "      <td>1</td>\n",
       "      <td>(1, 1)</td>\n",
       "      <td>None</td>\n",
       "      <td>0.815060</td>\n",
       "    </tr>\n",
       "    <tr>\n",
       "      <th>model_3</th>\n",
       "      <td>0.75</td>\n",
       "      <td>5250</td>\n",
       "      <td>1</td>\n",
       "      <td>(1, 1)</td>\n",
       "      <td>None</td>\n",
       "      <td>0.815774</td>\n",
       "    </tr>\n",
       "    <tr>\n",
       "      <th>model_4</th>\n",
       "      <td>0.65</td>\n",
       "      <td>5250</td>\n",
       "      <td>1</td>\n",
       "      <td>(1, 1)</td>\n",
       "      <td>None</td>\n",
       "      <td>0.815774</td>\n",
       "    </tr>\n",
       "    <tr>\n",
       "      <th>model_5</th>\n",
       "      <td>0.55</td>\n",
       "      <td>5250</td>\n",
       "      <td>1</td>\n",
       "      <td>(1, 1)</td>\n",
       "      <td>None</td>\n",
       "      <td>0.815774</td>\n",
       "    </tr>\n",
       "    <tr>\n",
       "      <th>model_6</th>\n",
       "      <td>0.35</td>\n",
       "      <td>5250</td>\n",
       "      <td>1</td>\n",
       "      <td>(1, 1)</td>\n",
       "      <td>None</td>\n",
       "      <td>0.815774</td>\n",
       "    </tr>\n",
       "    <tr>\n",
       "      <th>model_7</th>\n",
       "      <td>0.35</td>\n",
       "      <td>5250</td>\n",
       "      <td>1</td>\n",
       "      <td>(1, 1)</td>\n",
       "      <td>None</td>\n",
       "      <td>0.815774</td>\n",
       "    </tr>\n",
       "  </tbody>\n",
       "</table>\n",
       "</div>"
      ],
      "text/plain": [
       "         cvec__max_df  cvec__max_features  cvec__min_df cvec__ngram_range  \\\n",
       "model_1          0.90                5000             2            (1, 1)   \n",
       "model_2          0.85                5000             1            (1, 1)   \n",
       "model_3          0.75                5250             1            (1, 1)   \n",
       "model_4          0.65                5250             1            (1, 1)   \n",
       "model_5          0.55                5250             1            (1, 1)   \n",
       "model_6          0.35                5250             1            (1, 1)   \n",
       "model_7          0.35                5250             1            (1, 1)   \n",
       "\n",
       "        cvec__stop_words     score  \n",
       "model_1             None  0.814989  \n",
       "model_2             None  0.815060  \n",
       "model_3             None  0.815774  \n",
       "model_4             None  0.815774  \n",
       "model_5             None  0.815774  \n",
       "model_6             None  0.815774  \n",
       "model_7             None  0.815774  "
      ]
     },
     "execution_count": 52,
     "metadata": {},
     "output_type": "execute_result"
    }
   ],
   "source": [
    "# Lesson 5.04 code\n",
    "# An initial time stamp is created to keep track of the overall time to run the grid search cv of the model.\n",
    "t0 = time.time()\n",
    "\n",
    "# A pipeline is created to run the training data through the vectorizer of choice for the model\n",
    "# and select the model.\n",
    "pipe = Pipeline([\n",
    "    ('cvec', CountVectorizer()),\n",
    "    ('nb', MultinomialNB())\n",
    "])\n",
    "\n",
    "# A set of parameters is inserted into a dictionary \n",
    "\n",
    "# It is important to note that all the various parameters attempted are not stored \n",
    "# within this scaffolding. \n",
    "pipe_params = {\n",
    "    'cvec__max_features': [5_250],\n",
    "    'cvec__min_df': [1, 2],\n",
    "    'cvec__max_df': [0.25,0.30,0.35, 0.40, 0.45,0.50],\n",
    "    'cvec__ngram_range': [(1,1)],\n",
    "    'cvec__stop_words': [None,'english'] # Stop words were explored initiallty \n",
    "}\n",
    "# Instantiating the grid search\n",
    "gs = GridSearchCV(pipe, # Use the pipe to set our vectorizer and classifier\n",
    "                  param_grid=pipe_params, # Assign the grid search parameters\n",
    "                  cv=5, # Set up a 5-fold cross-validation\n",
    "                  n_jobs=4) # Use 4 threads to speed up the gird search\n",
    "\n",
    "# Fit the grid search to training data\n",
    "gs.fit(X_train, y_train)\n",
    "# Update the count of the model name\n",
    "count +=1\n",
    "\n",
    "# Save the parameters to the dictionary and then display as a data frame\n",
    "gs.best_params_['score'] = gs.best_score_\n",
    "model_params[f'model_{count}'] = gs.best_params_\n",
    "\n",
    "# Total run time\n",
    "print(f'Run time: {time.time()-t0}')\n",
    "\n",
    "# Convert the dictionary into a data frame and then show it.\n",
    "model_df = pd.DataFrame.from_dict(model_params,orient='index')\n",
    "model_df"
   ]
  },
  {
   "cell_type": "code",
   "execution_count": 111,
   "metadata": {},
   "outputs": [
    {
     "data": {
      "text/plain": [
       "GridSearchCV(cv=5,\n",
       "             estimator=Pipeline(steps=[('cvec', CountVectorizer()),\n",
       "                                       ('nb', MultinomialNB())]),\n",
       "             n_jobs=4,\n",
       "             param_grid={'cvec__max_df': [0.35], 'cvec__max_features': [5250],\n",
       "                         'cvec__min_df': [1], 'cvec__ngram_range': [(1, 1)],\n",
       "                         'cvec__stop_words': [None]})"
      ]
     },
     "execution_count": 111,
     "metadata": {},
     "output_type": "execute_result"
    }
   ],
   "source": [
    "# This section is for running the final parameters as a unique grid search with a next name.\n",
    "# The same scaffolding is used as before but only one option is set for each hyper parameter. \n",
    "pipe = Pipeline([\n",
    "    ('cvec', CountVectorizer()),\n",
    "    ('nb', MultinomialNB())\n",
    "])\n",
    "\n",
    "pipe_params = {\n",
    "    'cvec__max_features': [5_250],\n",
    "    'cvec__min_df': [1],\n",
    "    'cvec__max_df': [0.35],\n",
    "    'cvec__ngram_range': [(1,1)],\n",
    "    'cvec__stop_words': [None]\n",
    "}\n",
    "\n",
    "gs_nb1 = GridSearchCV(pipe, \n",
    "                  param_grid=pipe_params, \n",
    "                  cv=5, \n",
    "                  n_jobs=4) \n",
    "\n",
    "gs_nb1.fit(X_train, y_train)"
   ]
  },
  {
   "cell_type": "code",
   "execution_count": 114,
   "metadata": {},
   "outputs": [
    {
     "name": "stdout",
     "output_type": "stream",
     "text": [
      "Multinomial Naive Bayes 1 Testing Accuracy: 0.8547753410957926\n",
      "\n",
      "Multinomial Naive Bayes 1 Testing Accuracy: 0.813\n",
      "\n"
     ]
    }
   ],
   "source": [
    "# The score is printed showing the comparison between training and testing.\n",
    "print(f'Multinomial Naive Bayes 1 Testing Accuracy: {gs_nb1.score(X_train, y_train)}\\n')\n",
    "print(f'Multinomial Naive Bayes 1 Testing Accuracy: {gs_nb1.score(X_test, y_test)}\\n')"
   ]
  },
  {
   "cell_type": "code",
   "execution_count": 127,
   "metadata": {},
   "outputs": [],
   "source": [
    "# Building a storage location for final scores. Each model will add a new entry with the parameters\n",
    "# selected after the grid search.\n",
    "final_df = pd.DataFrame(np.array([['Mutinomial Naive Bayes 1',gs_nb1.score(X_train, y_train),gs_nb1.score(X_test, y_test)]]),\n",
    "                       columns = ['model', 'training_score','testing_score'])"
   ]
  },
  {
   "cell_type": "code",
   "execution_count": 117,
   "metadata": {},
   "outputs": [
    {
     "data": {
      "text/html": [
       "<div>\n",
       "<style scoped>\n",
       "    .dataframe tbody tr th:only-of-type {\n",
       "        vertical-align: middle;\n",
       "    }\n",
       "\n",
       "    .dataframe tbody tr th {\n",
       "        vertical-align: top;\n",
       "    }\n",
       "\n",
       "    .dataframe thead th {\n",
       "        text-align: right;\n",
       "    }\n",
       "</style>\n",
       "<table border=\"1\" class=\"dataframe\">\n",
       "  <thead>\n",
       "    <tr style=\"text-align: right;\">\n",
       "      <th></th>\n",
       "      <th>model</th>\n",
       "      <th>training_score</th>\n",
       "      <th>testing_score</th>\n",
       "    </tr>\n",
       "  </thead>\n",
       "  <tbody>\n",
       "    <tr>\n",
       "      <th>0</th>\n",
       "      <td>Mutinomial Naive Bayes 1</td>\n",
       "      <td>0.8547753410957926</td>\n",
       "      <td>0.813</td>\n",
       "    </tr>\n",
       "  </tbody>\n",
       "</table>\n",
       "</div>"
      ],
      "text/plain": [
       "                      model      training_score testing_score\n",
       "0  Mutinomial Naive Bayes 1  0.8547753410957926         0.813"
      ]
     },
     "execution_count": 117,
     "metadata": {},
     "output_type": "execute_result"
    }
   ],
   "source": [
    "# First iteration of the final data frame with each model's score\n",
    "final_df"
   ]
  },
  {
   "cell_type": "markdown",
   "metadata": {},
   "source": [
    "### Multinomial Naive Bayes 2\n",
    "> Term Frequency Inverse Document Frequency Vectorizer"
   ]
  },
  {
   "cell_type": "code",
   "execution_count": 55,
   "metadata": {},
   "outputs": [],
   "source": [
    "model_params = {}\n",
    "count = 0"
   ]
  },
  {
   "cell_type": "code",
   "execution_count": 62,
   "metadata": {},
   "outputs": [
    {
     "name": "stdout",
     "output_type": "stream",
     "text": [
      "Run time: 3.13055419921875\n"
     ]
    },
    {
     "data": {
      "text/html": [
       "<div>\n",
       "<style scoped>\n",
       "    .dataframe tbody tr th:only-of-type {\n",
       "        vertical-align: middle;\n",
       "    }\n",
       "\n",
       "    .dataframe tbody tr th {\n",
       "        vertical-align: top;\n",
       "    }\n",
       "\n",
       "    .dataframe thead th {\n",
       "        text-align: right;\n",
       "    }\n",
       "</style>\n",
       "<table border=\"1\" class=\"dataframe\">\n",
       "  <thead>\n",
       "    <tr style=\"text-align: right;\">\n",
       "      <th></th>\n",
       "      <th>tvec__max_df</th>\n",
       "      <th>tvec__max_features</th>\n",
       "      <th>tvec__min_df</th>\n",
       "      <th>tvec__ngram_range</th>\n",
       "      <th>tvec__stop_words</th>\n",
       "      <th>score</th>\n",
       "    </tr>\n",
       "  </thead>\n",
       "  <tbody>\n",
       "    <tr>\n",
       "      <th>model_0</th>\n",
       "      <td>0.90</td>\n",
       "      <td>4000</td>\n",
       "      <td>2</td>\n",
       "      <td>(1, 1)</td>\n",
       "      <td>None</td>\n",
       "      <td>0.819417</td>\n",
       "    </tr>\n",
       "    <tr>\n",
       "      <th>model_2</th>\n",
       "      <td>0.70</td>\n",
       "      <td>4000</td>\n",
       "      <td>2</td>\n",
       "      <td>(1, 1)</td>\n",
       "      <td>None</td>\n",
       "      <td>0.819417</td>\n",
       "    </tr>\n",
       "    <tr>\n",
       "      <th>model_3</th>\n",
       "      <td>0.30</td>\n",
       "      <td>4000</td>\n",
       "      <td>2</td>\n",
       "      <td>(1, 1)</td>\n",
       "      <td>None</td>\n",
       "      <td>0.819489</td>\n",
       "    </tr>\n",
       "    <tr>\n",
       "      <th>model_4</th>\n",
       "      <td>0.25</td>\n",
       "      <td>4000</td>\n",
       "      <td>2</td>\n",
       "      <td>(1, 1)</td>\n",
       "      <td>None</td>\n",
       "      <td>0.819632</td>\n",
       "    </tr>\n",
       "  </tbody>\n",
       "</table>\n",
       "</div>"
      ],
      "text/plain": [
       "         tvec__max_df  tvec__max_features  tvec__min_df tvec__ngram_range  \\\n",
       "model_0          0.90                4000             2            (1, 1)   \n",
       "model_2          0.70                4000             2            (1, 1)   \n",
       "model_3          0.30                4000             2            (1, 1)   \n",
       "model_4          0.25                4000             2            (1, 1)   \n",
       "\n",
       "        tvec__stop_words     score  \n",
       "model_0             None  0.819417  \n",
       "model_2             None  0.819417  \n",
       "model_3             None  0.819489  \n",
       "model_4             None  0.819632  "
      ]
     },
     "execution_count": 62,
     "metadata": {},
     "output_type": "execute_result"
    }
   ],
   "source": [
    "t0 = time.time()\n",
    "\n",
    "pipe = Pipeline([\n",
    "    ('tvec', TfidfVectorizer()),\n",
    "    ('nb', MultinomialNB())\n",
    "])\n",
    "\n",
    "pipe_params = {\n",
    "    'tvec__max_features': [4_000],\n",
    "    'tvec__stop_words': [None],\n",
    "    'tvec__min_df': [1,2],\n",
    "    'tvec__max_df': [0.1,0.2,0.25,0.3,0.35],\n",
    "    'tvec__ngram_range': [(1,1)]\n",
    "}\n",
    "\n",
    "gs = GridSearchCV(pipe, # what object are we optimizing?\n",
    "                  param_grid=pipe_params, # what parameters values are we searching?\n",
    "                  cv=5, # 5-fold cross-validation.\n",
    "                  n_jobs=4)\n",
    "\n",
    "gs.fit(X_train, y_train)\n",
    "\n",
    "count += 1\n",
    "\n",
    "gs.best_params_['score'] = gs.best_score_\n",
    "model_params[f'model_{count}'] = gs.best_params_\n",
    "print(f'Run time: {time.time()-t0}')\n",
    "model_df = pd.DataFrame.from_dict(model_params,orient='index')\n",
    "model_df"
   ]
  },
  {
   "cell_type": "code",
   "execution_count": 118,
   "metadata": {},
   "outputs": [
    {
     "data": {
      "text/plain": [
       "GridSearchCV(cv=5,\n",
       "             estimator=Pipeline(steps=[('tvec', TfidfVectorizer()),\n",
       "                                       ('nb', MultinomialNB())]),\n",
       "             n_jobs=4,\n",
       "             param_grid={'tvec__max_df': [0.25], 'tvec__max_features': [4000],\n",
       "                         'tvec__min_df': [2], 'tvec__ngram_range': [(1, 1)],\n",
       "                         'tvec__stop_words': [None]})"
      ]
     },
     "execution_count": 118,
     "metadata": {},
     "output_type": "execute_result"
    }
   ],
   "source": [
    "pipe = Pipeline([\n",
    "    ('tvec', TfidfVectorizer()),\n",
    "    ('nb', MultinomialNB())\n",
    "])\n",
    "\n",
    "pipe_params = {\n",
    "    'tvec__max_features': [4_000],\n",
    "    'tvec__stop_words': [None],\n",
    "    'tvec__min_df': [2],\n",
    "    'tvec__max_df': [0.25],\n",
    "    'tvec__ngram_range': [(1,1)]\n",
    "}\n",
    "\n",
    "gs_nb2 = GridSearchCV(pipe, # what object are we optimizing?\n",
    "                  param_grid=pipe_params, # what parameters values are we searching?\n",
    "                  cv=5, # 5-fold cross-validation.\n",
    "                  n_jobs=4)\n",
    "\n",
    "gs_nb2.fit(X_train, y_train)"
   ]
  },
  {
   "cell_type": "code",
   "execution_count": 119,
   "metadata": {},
   "outputs": [
    {
     "name": "stdout",
     "output_type": "stream",
     "text": [
      "Multinomial Naive Bayes 2 Training Accuracy: 0.8567754839631402\n",
      "\n",
      "Multinomial Naive Bayes 2 Testing Accuracy: 0.8143333333333334\n",
      "\n"
     ]
    }
   ],
   "source": [
    "print(f'Multinomial Naive Bayes 2 Training Accuracy: {gs_nb2.score(X_train, y_train)}\\n')\n",
    "print(f'Multinomial Naive Bayes 2 Testing Accuracy: {gs_nb2.score(X_test, y_test)}\\n')"
   ]
  },
  {
   "cell_type": "code",
   "execution_count": 128,
   "metadata": {},
   "outputs": [
    {
     "data": {
      "text/html": [
       "<div>\n",
       "<style scoped>\n",
       "    .dataframe tbody tr th:only-of-type {\n",
       "        vertical-align: middle;\n",
       "    }\n",
       "\n",
       "    .dataframe tbody tr th {\n",
       "        vertical-align: top;\n",
       "    }\n",
       "\n",
       "    .dataframe thead th {\n",
       "        text-align: right;\n",
       "    }\n",
       "</style>\n",
       "<table border=\"1\" class=\"dataframe\">\n",
       "  <thead>\n",
       "    <tr style=\"text-align: right;\">\n",
       "      <th></th>\n",
       "      <th>model</th>\n",
       "      <th>training_score</th>\n",
       "      <th>testing_score</th>\n",
       "    </tr>\n",
       "  </thead>\n",
       "  <tbody>\n",
       "    <tr>\n",
       "      <th>0</th>\n",
       "      <td>Mutinomial Naive Bayes 1</td>\n",
       "      <td>0.8547753410957926</td>\n",
       "      <td>0.813</td>\n",
       "    </tr>\n",
       "    <tr>\n",
       "      <th>0</th>\n",
       "      <td>Multinomial Naive Bayes 2</td>\n",
       "      <td>0.8567754839631402</td>\n",
       "      <td>0.8143333333333334</td>\n",
       "    </tr>\n",
       "  </tbody>\n",
       "</table>\n",
       "</div>"
      ],
      "text/plain": [
       "                       model      training_score       testing_score\n",
       "0   Mutinomial Naive Bayes 1  0.8547753410957926               0.813\n",
       "0  Multinomial Naive Bayes 2  0.8567754839631402  0.8143333333333334"
      ]
     },
     "execution_count": 128,
     "metadata": {},
     "output_type": "execute_result"
    }
   ],
   "source": [
    "array = np.array([['Multinomial Naive Bayes 2', gs_nb2.score(X_train, y_train), gs_nb2.score(X_test, y_test)]])\n",
    "final_df = final_df.append(pd.DataFrame(array,columns = ['model', 'training_score','testing_score']))\n",
    "final_df"
   ]
  },
  {
   "cell_type": "markdown",
   "metadata": {},
   "source": [
    "### K Nearest Neighbors Classifier\n",
    "> Term Frequency Inverse Document Frequency Vectorizer"
   ]
  },
  {
   "cell_type": "code",
   "execution_count": 65,
   "metadata": {},
   "outputs": [],
   "source": [
    "model_params = {}\n",
    "count = 0"
   ]
  },
  {
   "cell_type": "code",
   "execution_count": 78,
   "metadata": {},
   "outputs": [
    {
     "name": "stdout",
     "output_type": "stream",
     "text": [
      "Fitting 5 folds for each of 120 candidates, totalling 600 fits\n"
     ]
    },
    {
     "name": "stderr",
     "output_type": "stream",
     "text": [
      "[Parallel(n_jobs=4)]: Using backend LokyBackend with 4 concurrent workers.\n",
      "[Parallel(n_jobs=4)]: Done  33 tasks      | elapsed:   13.4s\n",
      "[Parallel(n_jobs=4)]: Done 154 tasks      | elapsed:   58.1s\n",
      "[Parallel(n_jobs=4)]: Done 357 tasks      | elapsed:  2.1min\n",
      "[Parallel(n_jobs=4)]: Done 600 out of 600 | elapsed:  3.5min finished\n"
     ]
    },
    {
     "name": "stdout",
     "output_type": "stream",
     "text": [
      "Run time: 210.87307214736938\n"
     ]
    },
    {
     "data": {
      "text/html": [
       "<div>\n",
       "<style scoped>\n",
       "    .dataframe tbody tr th:only-of-type {\n",
       "        vertical-align: middle;\n",
       "    }\n",
       "\n",
       "    .dataframe tbody tr th {\n",
       "        vertical-align: top;\n",
       "    }\n",
       "\n",
       "    .dataframe thead th {\n",
       "        text-align: right;\n",
       "    }\n",
       "</style>\n",
       "<table border=\"1\" class=\"dataframe\">\n",
       "  <thead>\n",
       "    <tr style=\"text-align: right;\">\n",
       "      <th></th>\n",
       "      <th>knn__metric</th>\n",
       "      <th>knn__n_neighbors</th>\n",
       "      <th>tvec__max_df</th>\n",
       "      <th>tvec__max_features</th>\n",
       "      <th>tvec__min_df</th>\n",
       "      <th>tvec__ngram_range</th>\n",
       "      <th>tvec__stop_words</th>\n",
       "      <th>score</th>\n",
       "    </tr>\n",
       "  </thead>\n",
       "  <tbody>\n",
       "    <tr>\n",
       "      <th>model_1</th>\n",
       "      <td>minkowski</td>\n",
       "      <td>3</td>\n",
       "      <td>0.2</td>\n",
       "      <td>1000</td>\n",
       "      <td>1</td>\n",
       "      <td>(1, 1)</td>\n",
       "      <td>None</td>\n",
       "      <td>0.613401</td>\n",
       "    </tr>\n",
       "  </tbody>\n",
       "</table>\n",
       "</div>"
      ],
      "text/plain": [
       "        knn__metric  knn__n_neighbors  tvec__max_df  tvec__max_features  \\\n",
       "model_1   minkowski                 3           0.2                1000   \n",
       "\n",
       "         tvec__min_df tvec__ngram_range tvec__stop_words     score  \n",
       "model_1             1            (1, 1)             None  0.613401  "
      ]
     },
     "execution_count": 78,
     "metadata": {},
     "output_type": "execute_result"
    }
   ],
   "source": [
    "t0 = time.time()\n",
    "\n",
    "pipe = Pipeline([\n",
    "    ('tvec', TfidfVectorizer()),\n",
    "    #('sc', StandardScaler()),\n",
    "    ('knn', KNeighborsClassifier())\n",
    "    \n",
    "])\n",
    "\n",
    "pipe_params = {\n",
    "    'tvec__max_features': [1_000,3_000,4_000],\n",
    "    'tvec__stop_words': [None],\n",
    "    'tvec__min_df': [1,2],\n",
    "    'tvec__max_df': [0.1,0.2,0.25,0.3,0.35],\n",
    "    'tvec__ngram_range': [(1,1)],\n",
    "    'knn__n_neighbors' : [3,5,9,13],\n",
    "    'knn__metric' : ['minkowski']\n",
    "    \n",
    "}\n",
    "\n",
    "gs = GridSearchCV(pipe, # what object are we optimizing?\n",
    "                  param_grid=pipe_params, # what parameters values are we searching?\n",
    "                  cv=5, # 5-fold cross-validation.\n",
    "                  n_jobs=4,\n",
    "                  verbose = 2)\n",
    "\n",
    "gs.fit(X_train, y_train)\n",
    "\n",
    "count += 1\n",
    "\n",
    "gs.best_params_['score'] = gs.best_score_\n",
    "model_params[f'model_{count}'] = gs.best_params_\n",
    "print(f'Run time: {time.time()-t0}')\n",
    "model_df = pd.DataFrame.from_dict(model_params,orient='index')\n",
    "model_df"
   ]
  },
  {
   "cell_type": "code",
   "execution_count": 129,
   "metadata": {},
   "outputs": [
    {
     "name": "stdout",
     "output_type": "stream",
     "text": [
      "Fitting 5 folds for each of 1 candidates, totalling 5 fits\n"
     ]
    },
    {
     "name": "stderr",
     "output_type": "stream",
     "text": [
      "[Parallel(n_jobs=4)]: Using backend LokyBackend with 4 concurrent workers.\n",
      "[Parallel(n_jobs=4)]: Done   5 out of   5 | elapsed:    5.1s finished\n"
     ]
    },
    {
     "data": {
      "text/plain": [
       "GridSearchCV(cv=5,\n",
       "             estimator=Pipeline(steps=[('tvec', TfidfVectorizer()),\n",
       "                                       ('knn', KNeighborsClassifier())]),\n",
       "             n_jobs=4,\n",
       "             param_grid={'knn__metric': ['minkowski'], 'knn__n_neighbors': [3],\n",
       "                         'tvec__max_df': [0.2], 'tvec__max_features': [1000],\n",
       "                         'tvec__min_df': [1], 'tvec__ngram_range': [(1, 1)],\n",
       "                         'tvec__stop_words': [None]},\n",
       "             verbose=2)"
      ]
     },
     "execution_count": 129,
     "metadata": {},
     "output_type": "execute_result"
    }
   ],
   "source": [
    "pipe = Pipeline([\n",
    "    ('tvec', TfidfVectorizer()),\n",
    "    ('knn', KNeighborsClassifier())\n",
    "    \n",
    "])\n",
    "\n",
    "pipe_params = {\n",
    "    'tvec__max_features': [1_000],\n",
    "    'tvec__stop_words': [None],\n",
    "    'tvec__min_df': [1],\n",
    "    'tvec__max_df': [0.2],\n",
    "    'tvec__ngram_range': [(1,1)],\n",
    "    'knn__n_neighbors' : [3],\n",
    "    'knn__metric' : ['minkowski']\n",
    "    \n",
    "}\n",
    "\n",
    "gs_knn = GridSearchCV(pipe, # what object are we optimizing?\n",
    "                  param_grid=pipe_params, # what parameters values are we searching?\n",
    "                  cv=5, # 5-fold cross-validation.\n",
    "                  n_jobs=4,\n",
    "                  verbose = 2)\n",
    "\n",
    "gs_knn.fit(X_train, y_train)"
   ]
  },
  {
   "cell_type": "code",
   "execution_count": 174,
   "metadata": {},
   "outputs": [
    {
     "name": "stdout",
     "output_type": "stream",
     "text": [
      "KNN Training Accuracy: 0.9126366169012072\n",
      "\n",
      "KNN Testing Accuracy: 0.6355\n",
      "\n"
     ]
    }
   ],
   "source": [
    "print(f'KNN Training Accuracy: {gs_knn.score(X_train, y_train)}\\n')\n",
    "print(f'KNN Testing Accuracy: {gs_knn.score(X_test, y_test)}\\n')"
   ]
  },
  {
   "cell_type": "code",
   "execution_count": 131,
   "metadata": {},
   "outputs": [
    {
     "data": {
      "text/html": [
       "<div>\n",
       "<style scoped>\n",
       "    .dataframe tbody tr th:only-of-type {\n",
       "        vertical-align: middle;\n",
       "    }\n",
       "\n",
       "    .dataframe tbody tr th {\n",
       "        vertical-align: top;\n",
       "    }\n",
       "\n",
       "    .dataframe thead th {\n",
       "        text-align: right;\n",
       "    }\n",
       "</style>\n",
       "<table border=\"1\" class=\"dataframe\">\n",
       "  <thead>\n",
       "    <tr style=\"text-align: right;\">\n",
       "      <th></th>\n",
       "      <th>model</th>\n",
       "      <th>training_score</th>\n",
       "      <th>testing_score</th>\n",
       "    </tr>\n",
       "  </thead>\n",
       "  <tbody>\n",
       "    <tr>\n",
       "      <th>0</th>\n",
       "      <td>Mutinomial Naive Bayes 1</td>\n",
       "      <td>0.8547753410957926</td>\n",
       "      <td>0.813</td>\n",
       "    </tr>\n",
       "    <tr>\n",
       "      <th>0</th>\n",
       "      <td>Multinomial Naive Bayes 2</td>\n",
       "      <td>0.8567754839631402</td>\n",
       "      <td>0.8143333333333334</td>\n",
       "    </tr>\n",
       "    <tr>\n",
       "      <th>0</th>\n",
       "      <td>K Nearest Neighbors</td>\n",
       "      <td>0.9126366169012072</td>\n",
       "      <td>0.6355</td>\n",
       "    </tr>\n",
       "  </tbody>\n",
       "</table>\n",
       "</div>"
      ],
      "text/plain": [
       "                       model      training_score       testing_score\n",
       "0   Mutinomial Naive Bayes 1  0.8547753410957926               0.813\n",
       "0  Multinomial Naive Bayes 2  0.8567754839631402  0.8143333333333334\n",
       "0        K Nearest Neighbors  0.9126366169012072              0.6355"
      ]
     },
     "execution_count": 131,
     "metadata": {},
     "output_type": "execute_result"
    }
   ],
   "source": [
    "array = np.array([['K Nearest Neighbors', gs_knn.score(X_train, y_train), gs_knn.score(X_test, y_test)]])\n",
    "final_df = final_df.append(pd.DataFrame(array,columns = ['model', 'training_score','testing_score']))\n",
    "final_df"
   ]
  },
  {
   "cell_type": "markdown",
   "metadata": {},
   "source": [
    "### Logistic Regression\n",
    "> Term Frequency Inverse Document Frequency Vectorizer"
   ]
  },
  {
   "cell_type": "code",
   "execution_count": 80,
   "metadata": {},
   "outputs": [],
   "source": [
    "model_params = {}\n",
    "count = 0"
   ]
  },
  {
   "cell_type": "code",
   "execution_count": 83,
   "metadata": {},
   "outputs": [
    {
     "name": "stdout",
     "output_type": "stream",
     "text": [
      "Fitting 5 folds for each of 18 candidates, totalling 90 fits\n"
     ]
    },
    {
     "name": "stderr",
     "output_type": "stream",
     "text": [
      "[Parallel(n_jobs=4)]: Using backend LokyBackend with 4 concurrent workers.\n",
      "[Parallel(n_jobs=4)]: Done  33 tasks      | elapsed:    5.8s\n",
      "[Parallel(n_jobs=4)]: Done  90 out of  90 | elapsed:   13.7s finished\n"
     ]
    },
    {
     "name": "stdout",
     "output_type": "stream",
     "text": [
      "Run time: 14.226673126220703\n"
     ]
    },
    {
     "data": {
      "text/html": [
       "<div>\n",
       "<style scoped>\n",
       "    .dataframe tbody tr th:only-of-type {\n",
       "        vertical-align: middle;\n",
       "    }\n",
       "\n",
       "    .dataframe tbody tr th {\n",
       "        vertical-align: top;\n",
       "    }\n",
       "\n",
       "    .dataframe thead th {\n",
       "        text-align: right;\n",
       "    }\n",
       "</style>\n",
       "<table border=\"1\" class=\"dataframe\">\n",
       "  <thead>\n",
       "    <tr style=\"text-align: right;\">\n",
       "      <th></th>\n",
       "      <th>logreg__C</th>\n",
       "      <th>logreg__max_iter</th>\n",
       "      <th>logreg__penalty</th>\n",
       "      <th>logreg__solver</th>\n",
       "      <th>tvec__max_df</th>\n",
       "      <th>tvec__max_features</th>\n",
       "      <th>tvec__min_df</th>\n",
       "      <th>tvec__ngram_range</th>\n",
       "      <th>tvec__stop_words</th>\n",
       "      <th>score</th>\n",
       "    </tr>\n",
       "  </thead>\n",
       "  <tbody>\n",
       "    <tr>\n",
       "      <th>model_1</th>\n",
       "      <td>5</td>\n",
       "      <td>500</td>\n",
       "      <td>l2</td>\n",
       "      <td>saga</td>\n",
       "      <td>0.25</td>\n",
       "      <td>5000</td>\n",
       "      <td>2</td>\n",
       "      <td>(1, 2)</td>\n",
       "      <td>None</td>\n",
       "      <td>0.856489</td>\n",
       "    </tr>\n",
       "    <tr>\n",
       "      <th>model_2</th>\n",
       "      <td>5</td>\n",
       "      <td>500</td>\n",
       "      <td>l2</td>\n",
       "      <td>saga</td>\n",
       "      <td>0.25</td>\n",
       "      <td>5000</td>\n",
       "      <td>2</td>\n",
       "      <td>(1, 2)</td>\n",
       "      <td>None</td>\n",
       "      <td>0.856418</td>\n",
       "    </tr>\n",
       "  </tbody>\n",
       "</table>\n",
       "</div>"
      ],
      "text/plain": [
       "         logreg__C  logreg__max_iter logreg__penalty logreg__solver  \\\n",
       "model_1          5               500              l2           saga   \n",
       "model_2          5               500              l2           saga   \n",
       "\n",
       "         tvec__max_df  tvec__max_features  tvec__min_df tvec__ngram_range  \\\n",
       "model_1          0.25                5000             2            (1, 2)   \n",
       "model_2          0.25                5000             2            (1, 2)   \n",
       "\n",
       "        tvec__stop_words     score  \n",
       "model_1             None  0.856489  \n",
       "model_2             None  0.856418  "
      ]
     },
     "execution_count": 83,
     "metadata": {},
     "output_type": "execute_result"
    }
   ],
   "source": [
    "t0 = time.time()\n",
    "\n",
    "pipe = Pipeline([\n",
    "    ('tvec', TfidfVectorizer()),\n",
    "    #('sc', StandardScaler()),\n",
    "    ('logreg', LogisticRegression())\n",
    "    \n",
    "])\n",
    "\n",
    "pipe_params = {\n",
    "    'tvec__max_features': [4_000,5_000,6_000],\n",
    "    'tvec__stop_words': [None],\n",
    "    'tvec__min_df': [2,3],\n",
    "    'tvec__max_df': [0.25],\n",
    "    'tvec__ngram_range': [(1,2)],\n",
    "    'logreg__penalty' : ['l2'],\n",
    "    'logreg__solver' : ['saga'],\n",
    "    'logreg__max_iter' : [500],\n",
    "    'logreg__C' : [3, 5, 7]\n",
    "    \n",
    "}\n",
    "\n",
    "gs = GridSearchCV(pipe, # what object are we optimizing?\n",
    "                  param_grid=pipe_params, # what parameters values are we searching?\n",
    "                  cv=5, # 5-fold cross-validation.\n",
    "                  n_jobs=4,\n",
    "                  verbose = 2)\n",
    "\n",
    "gs.fit(X_train, y_train)\n",
    "\n",
    "count += 1\n",
    "\n",
    "gs.best_params_['score'] = gs.best_score_\n",
    "model_params[f'model_{count}'] = gs.best_params_\n",
    "print(f'Run time: {time.time()-t0}')\n",
    "model_df = pd.DataFrame.from_dict(model_params,orient='index')\n",
    "model_df"
   ]
  },
  {
   "cell_type": "code",
   "execution_count": 132,
   "metadata": {},
   "outputs": [
    {
     "name": "stdout",
     "output_type": "stream",
     "text": [
      "Fitting 5 folds for each of 1 candidates, totalling 5 fits\n"
     ]
    },
    {
     "name": "stderr",
     "output_type": "stream",
     "text": [
      "[Parallel(n_jobs=4)]: Using backend LokyBackend with 4 concurrent workers.\n",
      "[Parallel(n_jobs=4)]: Done   5 out of   5 | elapsed:    2.6s finished\n"
     ]
    },
    {
     "data": {
      "text/plain": [
       "GridSearchCV(cv=5,\n",
       "             estimator=Pipeline(steps=[('tvec', TfidfVectorizer()),\n",
       "                                       ('logreg', LogisticRegression())]),\n",
       "             n_jobs=4,\n",
       "             param_grid={'logreg__C': [5], 'logreg__max_iter': [500],\n",
       "                         'logreg__penalty': ['l2'], 'logreg__solver': ['saga'],\n",
       "                         'tvec__max_df': [0.25], 'tvec__max_features': [5000],\n",
       "                         'tvec__min_df': [2], 'tvec__ngram_range': [(1, 2)],\n",
       "                         'tvec__stop_words': [None]},\n",
       "             verbose=2)"
      ]
     },
     "execution_count": 132,
     "metadata": {},
     "output_type": "execute_result"
    }
   ],
   "source": [
    "pipe = Pipeline([\n",
    "    ('tvec', TfidfVectorizer()),\n",
    "    ('logreg', LogisticRegression())\n",
    "    \n",
    "])\n",
    "\n",
    "pipe_params = {\n",
    "    'tvec__max_features': [5_000],\n",
    "    'tvec__stop_words': [None],\n",
    "    'tvec__min_df': [2],\n",
    "    'tvec__max_df': [0.25],\n",
    "    'tvec__ngram_range': [(1,2)],\n",
    "    'logreg__penalty' : ['l2'],\n",
    "    'logreg__solver' : ['saga'],\n",
    "    'logreg__max_iter' : [500],\n",
    "    'logreg__C' : [5]\n",
    "    \n",
    "}\n",
    "\n",
    "gs_lr = GridSearchCV(pipe, # what object are we optimizing?\n",
    "                  param_grid=pipe_params, # what parameters values are we searching?\n",
    "                  cv=5, # 5-fold cross-validation.\n",
    "                  n_jobs=4,\n",
    "                  verbose = 2)\n",
    "\n",
    "gs_lr.fit(X_train, y_train)"
   ]
  },
  {
   "cell_type": "code",
   "execution_count": 137,
   "metadata": {},
   "outputs": [
    {
     "name": "stdout",
     "output_type": "stream",
     "text": [
      "Logistic Regression Training Accuracy: 0.9315665404671762\n",
      "\n",
      "Logistic Regression Testing Accuracy: 0.8566666666666667\n",
      "\n"
     ]
    }
   ],
   "source": [
    "print(f'Logistic Regression Training Accuracy: {gs_lr.score(X_train, y_train)}\\n')\n",
    "print(f'Logistic Regression Testing Accuracy: {gs_lr.score(X_test, y_test)}\\n')"
   ]
  },
  {
   "cell_type": "code",
   "execution_count": 134,
   "metadata": {},
   "outputs": [
    {
     "data": {
      "text/html": [
       "<div>\n",
       "<style scoped>\n",
       "    .dataframe tbody tr th:only-of-type {\n",
       "        vertical-align: middle;\n",
       "    }\n",
       "\n",
       "    .dataframe tbody tr th {\n",
       "        vertical-align: top;\n",
       "    }\n",
       "\n",
       "    .dataframe thead th {\n",
       "        text-align: right;\n",
       "    }\n",
       "</style>\n",
       "<table border=\"1\" class=\"dataframe\">\n",
       "  <thead>\n",
       "    <tr style=\"text-align: right;\">\n",
       "      <th></th>\n",
       "      <th>model</th>\n",
       "      <th>training_score</th>\n",
       "      <th>testing_score</th>\n",
       "    </tr>\n",
       "  </thead>\n",
       "  <tbody>\n",
       "    <tr>\n",
       "      <th>0</th>\n",
       "      <td>Mutinomial Naive Bayes 1</td>\n",
       "      <td>0.8547753410957926</td>\n",
       "      <td>0.813</td>\n",
       "    </tr>\n",
       "    <tr>\n",
       "      <th>0</th>\n",
       "      <td>Multinomial Naive Bayes 2</td>\n",
       "      <td>0.8567754839631402</td>\n",
       "      <td>0.8143333333333334</td>\n",
       "    </tr>\n",
       "    <tr>\n",
       "      <th>0</th>\n",
       "      <td>K Nearest Neighbors</td>\n",
       "      <td>0.9126366169012072</td>\n",
       "      <td>0.6355</td>\n",
       "    </tr>\n",
       "    <tr>\n",
       "      <th>0</th>\n",
       "      <td>Logistic Regression</td>\n",
       "      <td>0.9315665404671762</td>\n",
       "      <td>0.8566666666666667</td>\n",
       "    </tr>\n",
       "  </tbody>\n",
       "</table>\n",
       "</div>"
      ],
      "text/plain": [
       "                       model      training_score       testing_score\n",
       "0   Mutinomial Naive Bayes 1  0.8547753410957926               0.813\n",
       "0  Multinomial Naive Bayes 2  0.8567754839631402  0.8143333333333334\n",
       "0        K Nearest Neighbors  0.9126366169012072              0.6355\n",
       "0        Logistic Regression  0.9315665404671762  0.8566666666666667"
      ]
     },
     "execution_count": 134,
     "metadata": {},
     "output_type": "execute_result"
    }
   ],
   "source": [
    "array = np.array([['Logistic Regression', gs_lr.score(X_train, y_train), gs_lr.score(X_test, y_test)]])\n",
    "final_df = final_df.append(pd.DataFrame(array,columns = ['model', 'training_score','testing_score']))\n",
    "final_df"
   ]
  },
  {
   "cell_type": "markdown",
   "metadata": {},
   "source": [
    "### Support Vector Classification\n",
    "> Term Frequency Inverse Document Frequency Vectorizer"
   ]
  },
  {
   "cell_type": "code",
   "execution_count": 96,
   "metadata": {},
   "outputs": [],
   "source": [
    "model_params = {}\n",
    "count = 0"
   ]
  },
  {
   "cell_type": "code",
   "execution_count": 100,
   "metadata": {},
   "outputs": [
    {
     "name": "stdout",
     "output_type": "stream",
     "text": [
      "Fitting 5 folds for each of 2 candidates, totalling 10 fits\n"
     ]
    },
    {
     "name": "stderr",
     "output_type": "stream",
     "text": [
      "[Parallel(n_jobs=4)]: Using backend LokyBackend with 4 concurrent workers.\n",
      "[Parallel(n_jobs=4)]: Done  10 out of  10 | elapsed:  1.3min finished\n"
     ]
    },
    {
     "name": "stdout",
     "output_type": "stream",
     "text": [
      "Run time: 116.18785619735718\n"
     ]
    },
    {
     "data": {
      "text/html": [
       "<div>\n",
       "<style scoped>\n",
       "    .dataframe tbody tr th:only-of-type {\n",
       "        vertical-align: middle;\n",
       "    }\n",
       "\n",
       "    .dataframe tbody tr th {\n",
       "        vertical-align: top;\n",
       "    }\n",
       "\n",
       "    .dataframe thead th {\n",
       "        text-align: right;\n",
       "    }\n",
       "</style>\n",
       "<table border=\"1\" class=\"dataframe\">\n",
       "  <thead>\n",
       "    <tr style=\"text-align: right;\">\n",
       "      <th></th>\n",
       "      <th>svc__degree</th>\n",
       "      <th>svc__kernel</th>\n",
       "      <th>svc__max_iter</th>\n",
       "      <th>tvec__max_df</th>\n",
       "      <th>tvec__max_features</th>\n",
       "      <th>tvec__min_df</th>\n",
       "      <th>tvec__ngram_range</th>\n",
       "      <th>tvec__stop_words</th>\n",
       "      <th>score</th>\n",
       "      <th>svc__C</th>\n",
       "      <th>svc__gamma</th>\n",
       "    </tr>\n",
       "  </thead>\n",
       "  <tbody>\n",
       "    <tr>\n",
       "      <th>model_1</th>\n",
       "      <td>2</td>\n",
       "      <td>poly</td>\n",
       "      <td>-1</td>\n",
       "      <td>0.2</td>\n",
       "      <td>5000</td>\n",
       "      <td>2</td>\n",
       "      <td>(1, 1)</td>\n",
       "      <td>None</td>\n",
       "      <td>0.856776</td>\n",
       "      <td>NaN</td>\n",
       "      <td>NaN</td>\n",
       "    </tr>\n",
       "    <tr>\n",
       "      <th>model_2</th>\n",
       "      <td>2</td>\n",
       "      <td>rbf</td>\n",
       "      <td>-1</td>\n",
       "      <td>0.2</td>\n",
       "      <td>5000</td>\n",
       "      <td>2</td>\n",
       "      <td>(1, 1)</td>\n",
       "      <td>None</td>\n",
       "      <td>0.859704</td>\n",
       "      <td>NaN</td>\n",
       "      <td>NaN</td>\n",
       "    </tr>\n",
       "    <tr>\n",
       "      <th>model_3</th>\n",
       "      <td>2</td>\n",
       "      <td>rbf</td>\n",
       "      <td>-1</td>\n",
       "      <td>0.2</td>\n",
       "      <td>5000</td>\n",
       "      <td>2</td>\n",
       "      <td>(1, 1)</td>\n",
       "      <td>None</td>\n",
       "      <td>0.863205</td>\n",
       "      <td>10.0</td>\n",
       "      <td>scale</td>\n",
       "    </tr>\n",
       "    <tr>\n",
       "      <th>model_4</th>\n",
       "      <td>2</td>\n",
       "      <td>rbf</td>\n",
       "      <td>-1</td>\n",
       "      <td>0.2</td>\n",
       "      <td>5000</td>\n",
       "      <td>2</td>\n",
       "      <td>(1, 1)</td>\n",
       "      <td>None</td>\n",
       "      <td>0.863205</td>\n",
       "      <td>10.0</td>\n",
       "      <td>scale</td>\n",
       "    </tr>\n",
       "  </tbody>\n",
       "</table>\n",
       "</div>"
      ],
      "text/plain": [
       "         svc__degree svc__kernel  svc__max_iter  tvec__max_df  \\\n",
       "model_1            2        poly             -1           0.2   \n",
       "model_2            2         rbf             -1           0.2   \n",
       "model_3            2         rbf             -1           0.2   \n",
       "model_4            2         rbf             -1           0.2   \n",
       "\n",
       "         tvec__max_features  tvec__min_df tvec__ngram_range tvec__stop_words  \\\n",
       "model_1                5000             2            (1, 1)             None   \n",
       "model_2                5000             2            (1, 1)             None   \n",
       "model_3                5000             2            (1, 1)             None   \n",
       "model_4                5000             2            (1, 1)             None   \n",
       "\n",
       "            score  svc__C svc__gamma  \n",
       "model_1  0.856776     NaN        NaN  \n",
       "model_2  0.859704     NaN        NaN  \n",
       "model_3  0.863205    10.0      scale  \n",
       "model_4  0.863205    10.0      scale  "
      ]
     },
     "execution_count": 100,
     "metadata": {},
     "output_type": "execute_result"
    }
   ],
   "source": [
    "t0 = time.time()\n",
    "\n",
    "pipe = Pipeline([\n",
    "    ('tvec', TfidfVectorizer()),\n",
    "    ('svc', SVC())\n",
    "    \n",
    "])\n",
    "\n",
    "pipe_params = {\n",
    "    'tvec__max_features': [5_000],\n",
    "    'tvec__stop_words': [None],\n",
    "    'tvec__min_df': [2],\n",
    "    'tvec__max_df': [0.2],\n",
    "    'tvec__ngram_range': [(1,1)],\n",
    "    'svc__kernel' : ['rbf'],\n",
    "    'svc__max_iter' : [-1],\n",
    "    'svc__degree':[2],\n",
    "    'svc__C' : [5,10],\n",
    "    'svc__gamma' : ['scale']\n",
    "}\n",
    "\n",
    "gs = GridSearchCV(pipe, # what object are we optimizing?\n",
    "                  param_grid=pipe_params, # what parameters values are we searching?\n",
    "                  cv=5, # 5-fold cross-validation.\n",
    "                  n_jobs=4,\n",
    "                  verbose = 2)\n",
    "\n",
    "gs.fit(X_train, y_train)\n",
    "\n",
    "count += 1\n",
    "\n",
    "gs.best_params_['score'] = gs.best_score_\n",
    "model_params[f'model_{count}'] = gs.best_params_\n",
    "print(f'Run time: {time.time()-t0}')\n",
    "model_df = pd.DataFrame.from_dict(model_params,orient='index')\n",
    "model_df"
   ]
  },
  {
   "cell_type": "code",
   "execution_count": 135,
   "metadata": {},
   "outputs": [
    {
     "name": "stdout",
     "output_type": "stream",
     "text": [
      "Fitting 5 folds for each of 1 candidates, totalling 5 fits\n"
     ]
    },
    {
     "name": "stderr",
     "output_type": "stream",
     "text": [
      "[Parallel(n_jobs=4)]: Using backend LokyBackend with 4 concurrent workers.\n",
      "[Parallel(n_jobs=4)]: Done   5 out of   5 | elapsed:   59.4s finished\n"
     ]
    },
    {
     "data": {
      "text/plain": [
       "GridSearchCV(cv=5,\n",
       "             estimator=Pipeline(steps=[('tvec', TfidfVectorizer()),\n",
       "                                       ('svc', SVC())]),\n",
       "             n_jobs=4,\n",
       "             param_grid={'svc__C': [10], 'svc__degree': [2],\n",
       "                         'svc__gamma': ['scale'], 'svc__kernel': ['rbf'],\n",
       "                         'svc__max_iter': [-1], 'tvec__max_df': [0.2],\n",
       "                         'tvec__max_features': [5000], 'tvec__min_df': [2],\n",
       "                         'tvec__ngram_range': [(1, 1)],\n",
       "                         'tvec__stop_words': [None]},\n",
       "             verbose=2)"
      ]
     },
     "execution_count": 135,
     "metadata": {},
     "output_type": "execute_result"
    }
   ],
   "source": [
    "pipe = Pipeline([\n",
    "    ('tvec', TfidfVectorizer()),\n",
    "    ('svc', SVC())\n",
    "    \n",
    "])\n",
    "\n",
    "pipe_params = {\n",
    "    'tvec__max_features': [5_000],\n",
    "    'tvec__stop_words': [None],\n",
    "    'tvec__min_df': [2],\n",
    "    'tvec__max_df': [0.2],\n",
    "    'tvec__ngram_range': [(1,1)],\n",
    "    'svc__kernel' : ['rbf'],\n",
    "    'svc__max_iter' : [-1],\n",
    "    'svc__degree':[2],\n",
    "    'svc__C' : [10],\n",
    "    'svc__gamma' : ['scale']\n",
    "}\n",
    "\n",
    "gs_svc = GridSearchCV(pipe, # what object are we optimizing?\n",
    "                  param_grid=pipe_params, # what parameters values are we searching?\n",
    "                  cv=5, # 5-fold cross-validation.\n",
    "                  n_jobs=4,\n",
    "                  verbose = 2)\n",
    "\n",
    "gs_svc.fit(X_train, y_train)"
   ]
  },
  {
   "cell_type": "code",
   "execution_count": 138,
   "metadata": {},
   "outputs": [
    {
     "name": "stdout",
     "output_type": "stream",
     "text": [
      "Support Vector Classification Training Accuracy: 0.9924994642474463\n",
      "\n",
      "Support Vector Classification Testing Accuracy: 0.8645\n",
      "\n"
     ]
    }
   ],
   "source": [
    "print(f'Support Vector Classification Training Accuracy: {gs_svc.score(X_train, y_train)}\\n')\n",
    "print(f'Support Vector Classification Testing Accuracy: {gs_svc.score(X_test, y_test)}\\n')"
   ]
  },
  {
   "cell_type": "code",
   "execution_count": 139,
   "metadata": {},
   "outputs": [
    {
     "data": {
      "text/html": [
       "<div>\n",
       "<style scoped>\n",
       "    .dataframe tbody tr th:only-of-type {\n",
       "        vertical-align: middle;\n",
       "    }\n",
       "\n",
       "    .dataframe tbody tr th {\n",
       "        vertical-align: top;\n",
       "    }\n",
       "\n",
       "    .dataframe thead th {\n",
       "        text-align: right;\n",
       "    }\n",
       "</style>\n",
       "<table border=\"1\" class=\"dataframe\">\n",
       "  <thead>\n",
       "    <tr style=\"text-align: right;\">\n",
       "      <th></th>\n",
       "      <th>model</th>\n",
       "      <th>training_score</th>\n",
       "      <th>testing_score</th>\n",
       "    </tr>\n",
       "  </thead>\n",
       "  <tbody>\n",
       "    <tr>\n",
       "      <th>0</th>\n",
       "      <td>Mutinomial Naive Bayes 1</td>\n",
       "      <td>0.8547753410957926</td>\n",
       "      <td>0.813</td>\n",
       "    </tr>\n",
       "    <tr>\n",
       "      <th>0</th>\n",
       "      <td>Multinomial Naive Bayes 2</td>\n",
       "      <td>0.8567754839631402</td>\n",
       "      <td>0.8143333333333334</td>\n",
       "    </tr>\n",
       "    <tr>\n",
       "      <th>0</th>\n",
       "      <td>K Nearest Neighbors</td>\n",
       "      <td>0.9126366169012072</td>\n",
       "      <td>0.6355</td>\n",
       "    </tr>\n",
       "    <tr>\n",
       "      <th>0</th>\n",
       "      <td>Logistic Regression</td>\n",
       "      <td>0.9315665404671762</td>\n",
       "      <td>0.8566666666666667</td>\n",
       "    </tr>\n",
       "    <tr>\n",
       "      <th>0</th>\n",
       "      <td>Support Vector Classification</td>\n",
       "      <td>0.9924994642474463</td>\n",
       "      <td>0.8645</td>\n",
       "    </tr>\n",
       "  </tbody>\n",
       "</table>\n",
       "</div>"
      ],
      "text/plain": [
       "                           model      training_score       testing_score\n",
       "0       Mutinomial Naive Bayes 1  0.8547753410957926               0.813\n",
       "0      Multinomial Naive Bayes 2  0.8567754839631402  0.8143333333333334\n",
       "0            K Nearest Neighbors  0.9126366169012072              0.6355\n",
       "0            Logistic Regression  0.9315665404671762  0.8566666666666667\n",
       "0  Support Vector Classification  0.9924994642474463              0.8645"
      ]
     },
     "execution_count": 139,
     "metadata": {},
     "output_type": "execute_result"
    }
   ],
   "source": [
    "array = np.array([['Support Vector Classification', gs_svc.score(X_train, y_train), gs_svc.score(X_test, y_test)]])\n",
    "final_df = final_df.append(pd.DataFrame(array,columns = ['model', 'training_score','testing_score']))\n",
    "final_df"
   ]
  },
  {
   "cell_type": "markdown",
   "metadata": {},
   "source": [
    "### Random Forest Classifier\n",
    "> Count Vectorizer"
   ]
  },
  {
   "cell_type": "code",
   "execution_count": 90,
   "metadata": {},
   "outputs": [],
   "source": [
    "model_params = {}\n",
    "count = 0"
   ]
  },
  {
   "cell_type": "code",
   "execution_count": 94,
   "metadata": {},
   "outputs": [
    {
     "name": "stdout",
     "output_type": "stream",
     "text": [
      "Fitting 5 folds for each of 32 candidates, totalling 160 fits\n"
     ]
    },
    {
     "name": "stderr",
     "output_type": "stream",
     "text": [
      "[Parallel(n_jobs=4)]: Using backend LokyBackend with 4 concurrent workers.\n",
      "[Parallel(n_jobs=4)]: Done  33 tasks      | elapsed:  1.3min\n",
      "[Parallel(n_jobs=4)]: Done 160 out of 160 | elapsed:  6.0min finished\n"
     ]
    },
    {
     "name": "stdout",
     "output_type": "stream",
     "text": [
      "Run time: 373.2064609527588\n"
     ]
    },
    {
     "data": {
      "text/html": [
       "<div>\n",
       "<style scoped>\n",
       "    .dataframe tbody tr th:only-of-type {\n",
       "        vertical-align: middle;\n",
       "    }\n",
       "\n",
       "    .dataframe tbody tr th {\n",
       "        vertical-align: top;\n",
       "    }\n",
       "\n",
       "    .dataframe thead th {\n",
       "        text-align: right;\n",
       "    }\n",
       "</style>\n",
       "<table border=\"1\" class=\"dataframe\">\n",
       "  <thead>\n",
       "    <tr style=\"text-align: right;\">\n",
       "      <th></th>\n",
       "      <th>score</th>\n",
       "      <th>cvec__max_df</th>\n",
       "      <th>cvec__max_features</th>\n",
       "      <th>cvec__min_df</th>\n",
       "      <th>cvec__ngram_range</th>\n",
       "      <th>cvec__stop_words</th>\n",
       "      <th>rf__ccp_alpha</th>\n",
       "    </tr>\n",
       "  </thead>\n",
       "  <tbody>\n",
       "    <tr>\n",
       "      <th>model_1</th>\n",
       "      <td>0.825987</td>\n",
       "      <td>NaN</td>\n",
       "      <td>NaN</td>\n",
       "      <td>NaN</td>\n",
       "      <td>NaN</td>\n",
       "      <td>NaN</td>\n",
       "      <td>NaN</td>\n",
       "    </tr>\n",
       "    <tr>\n",
       "      <th>model_2</th>\n",
       "      <td>0.826130</td>\n",
       "      <td>NaN</td>\n",
       "      <td>NaN</td>\n",
       "      <td>NaN</td>\n",
       "      <td>NaN</td>\n",
       "      <td>NaN</td>\n",
       "      <td>NaN</td>\n",
       "    </tr>\n",
       "    <tr>\n",
       "      <th>model_3</th>\n",
       "      <td>0.798414</td>\n",
       "      <td>0.2</td>\n",
       "      <td>5000.0</td>\n",
       "      <td>2.0</td>\n",
       "      <td>(1, 1)</td>\n",
       "      <td>NaN</td>\n",
       "      <td>0.001</td>\n",
       "    </tr>\n",
       "  </tbody>\n",
       "</table>\n",
       "</div>"
      ],
      "text/plain": [
       "            score  cvec__max_df  cvec__max_features  cvec__min_df  \\\n",
       "model_1  0.825987           NaN                 NaN           NaN   \n",
       "model_2  0.826130           NaN                 NaN           NaN   \n",
       "model_3  0.798414           0.2              5000.0           2.0   \n",
       "\n",
       "        cvec__ngram_range  cvec__stop_words  rf__ccp_alpha  \n",
       "model_1               NaN               NaN            NaN  \n",
       "model_2               NaN               NaN            NaN  \n",
       "model_3            (1, 1)               NaN          0.001  "
      ]
     },
     "execution_count": 94,
     "metadata": {},
     "output_type": "execute_result"
    }
   ],
   "source": [
    "t0 = time.time()\n",
    "\n",
    "pipe = Pipeline([\n",
    "    ('cvec', CountVectorizer()),\n",
    "    ('rf', RandomForestClassifier())\n",
    "    \n",
    "])\n",
    "\n",
    "pipe_params = {\n",
    "    'cvec__max_features': [4_000, 5_000,6_000],\n",
    "    'cvec__stop_words': [None],\n",
    "    'cvec__min_df': [1,2],\n",
    "    'cvec__max_df': [0.1,0.2],\n",
    "    'cvec__ngram_range': [(1,1),(1,2)],\n",
    "    'rf__ccp_alpha' : [0.001,0.1],    \n",
    "}\n",
    "\n",
    "gs = GridSearchCV(pipe, # what object are we optimizing?\n",
    "                  param_grid=pipe_params, # what parameters values are we searching?\n",
    "                  cv=5, # 5-fold cross-validation.\n",
    "                  n_jobs=4,\n",
    "                  verbose = 2)\n",
    "\n",
    "gs.fit(X_train, y_train)\n",
    "\n",
    "count += 1\n",
    "\n",
    "gs.best_params_['score'] = gs.best_score_\n",
    "model_params[f'model_{count}'] = gs.best_params_\n",
    "print(f'Run time: {time.time()-t0}')\n",
    "model_df = pd.DataFrame.from_dict(model_params,orient='index')\n",
    "model_df"
   ]
  },
  {
   "cell_type": "code",
   "execution_count": 140,
   "metadata": {},
   "outputs": [
    {
     "name": "stdout",
     "output_type": "stream",
     "text": [
      "Fitting 5 folds for each of 1 candidates, totalling 5 fits\n"
     ]
    },
    {
     "name": "stderr",
     "output_type": "stream",
     "text": [
      "[Parallel(n_jobs=4)]: Using backend LokyBackend with 4 concurrent workers.\n",
      "[Parallel(n_jobs=4)]: Done   5 out of   5 | elapsed:   25.8s finished\n"
     ]
    },
    {
     "data": {
      "text/plain": [
       "GridSearchCV(cv=5,\n",
       "             estimator=Pipeline(steps=[('cvec', CountVectorizer()),\n",
       "                                       ('rf', RandomForestClassifier())]),\n",
       "             n_jobs=4, param_grid={}, verbose=2)"
      ]
     },
     "execution_count": 140,
     "metadata": {},
     "output_type": "execute_result"
    }
   ],
   "source": [
    "pipe = Pipeline([\n",
    "    ('cvec', CountVectorizer()),\n",
    "    ('rf', RandomForestClassifier())\n",
    "    \n",
    "])\n",
    "\n",
    "pipe_params = {  \n",
    "}\n",
    "\n",
    "gs_rf = GridSearchCV(pipe, # what object are we optimizing?\n",
    "                  param_grid=pipe_params, # what parameters values are we searching?\n",
    "                  cv=5, # 5-fold cross-validation.\n",
    "                  n_jobs=4,\n",
    "                  verbose = 2)\n",
    "\n",
    "gs_rf.fit(X_train, y_train)"
   ]
  },
  {
   "cell_type": "code",
   "execution_count": 141,
   "metadata": {},
   "outputs": [
    {
     "name": "stdout",
     "output_type": "stream",
     "text": [
      "Random Forest Classifier Training Accuracy: 0.9962854489606401\n",
      "\n",
      "Random Forest Classifier Testing Accuracy: 0.8226666666666667\n",
      "\n"
     ]
    }
   ],
   "source": [
    "print(f'Random Forest Classifier Training Accuracy: {gs_rf.score(X_train, y_train)}\\n')\n",
    "print(f'Random Forest Classifier Testing Accuracy: {gs_rf.score(X_test, y_test)}\\n')"
   ]
  },
  {
   "cell_type": "code",
   "execution_count": 142,
   "metadata": {},
   "outputs": [
    {
     "data": {
      "text/html": [
       "<div>\n",
       "<style scoped>\n",
       "    .dataframe tbody tr th:only-of-type {\n",
       "        vertical-align: middle;\n",
       "    }\n",
       "\n",
       "    .dataframe tbody tr th {\n",
       "        vertical-align: top;\n",
       "    }\n",
       "\n",
       "    .dataframe thead th {\n",
       "        text-align: right;\n",
       "    }\n",
       "</style>\n",
       "<table border=\"1\" class=\"dataframe\">\n",
       "  <thead>\n",
       "    <tr style=\"text-align: right;\">\n",
       "      <th></th>\n",
       "      <th>model</th>\n",
       "      <th>training_score</th>\n",
       "      <th>testing_score</th>\n",
       "    </tr>\n",
       "  </thead>\n",
       "  <tbody>\n",
       "    <tr>\n",
       "      <th>0</th>\n",
       "      <td>Mutinomial Naive Bayes 1</td>\n",
       "      <td>0.8547753410957926</td>\n",
       "      <td>0.813</td>\n",
       "    </tr>\n",
       "    <tr>\n",
       "      <th>0</th>\n",
       "      <td>Multinomial Naive Bayes 2</td>\n",
       "      <td>0.8567754839631402</td>\n",
       "      <td>0.8143333333333334</td>\n",
       "    </tr>\n",
       "    <tr>\n",
       "      <th>0</th>\n",
       "      <td>K Nearest Neighbors</td>\n",
       "      <td>0.9126366169012072</td>\n",
       "      <td>0.6355</td>\n",
       "    </tr>\n",
       "    <tr>\n",
       "      <th>0</th>\n",
       "      <td>Logistic Regression</td>\n",
       "      <td>0.9315665404671762</td>\n",
       "      <td>0.8566666666666667</td>\n",
       "    </tr>\n",
       "    <tr>\n",
       "      <th>0</th>\n",
       "      <td>Support Vector Classification</td>\n",
       "      <td>0.9924994642474463</td>\n",
       "      <td>0.8645</td>\n",
       "    </tr>\n",
       "    <tr>\n",
       "      <th>0</th>\n",
       "      <td>Random Forest Classifier</td>\n",
       "      <td>0.9962854489606401</td>\n",
       "      <td>0.8226666666666667</td>\n",
       "    </tr>\n",
       "  </tbody>\n",
       "</table>\n",
       "</div>"
      ],
      "text/plain": [
       "                           model      training_score       testing_score\n",
       "0       Mutinomial Naive Bayes 1  0.8547753410957926               0.813\n",
       "0      Multinomial Naive Bayes 2  0.8567754839631402  0.8143333333333334\n",
       "0            K Nearest Neighbors  0.9126366169012072              0.6355\n",
       "0            Logistic Regression  0.9315665404671762  0.8566666666666667\n",
       "0  Support Vector Classification  0.9924994642474463              0.8645\n",
       "0       Random Forest Classifier  0.9962854489606401  0.8226666666666667"
      ]
     },
     "execution_count": 142,
     "metadata": {},
     "output_type": "execute_result"
    }
   ],
   "source": [
    "array = np.array([['Random Forest Classifier', gs_rf.score(X_train, y_train), gs_rf.score(X_test, y_test)]])\n",
    "final_df = final_df.append(pd.DataFrame(array,columns = ['model', 'training_score','testing_score']))\n",
    "final_df"
   ]
  },
  {
   "cell_type": "code",
   "execution_count": 145,
   "metadata": {},
   "outputs": [],
   "source": [
    "final_df.reset_index(inplace=True)"
   ]
  },
  {
   "cell_type": "code",
   "execution_count": 151,
   "metadata": {},
   "outputs": [],
   "source": [
    "final_df['training_score'] = final_df['training_score'].map(lambda x: round(float(x),2))\n",
    "final_df['testing_score'] = final_df['testing_score'].map(lambda x: round(float(x),2))"
   ]
  },
  {
   "cell_type": "code",
   "execution_count": 153,
   "metadata": {},
   "outputs": [],
   "source": [
    "final_df.drop('index',axis=1,inplace=True)"
   ]
  },
  {
   "cell_type": "markdown",
   "metadata": {},
   "source": [
    "### Scores of All Models"
   ]
  },
  {
   "cell_type": "code",
   "execution_count": 154,
   "metadata": {},
   "outputs": [
    {
     "data": {
      "text/html": [
       "<div>\n",
       "<style scoped>\n",
       "    .dataframe tbody tr th:only-of-type {\n",
       "        vertical-align: middle;\n",
       "    }\n",
       "\n",
       "    .dataframe tbody tr th {\n",
       "        vertical-align: top;\n",
       "    }\n",
       "\n",
       "    .dataframe thead th {\n",
       "        text-align: right;\n",
       "    }\n",
       "</style>\n",
       "<table border=\"1\" class=\"dataframe\">\n",
       "  <thead>\n",
       "    <tr style=\"text-align: right;\">\n",
       "      <th></th>\n",
       "      <th>model</th>\n",
       "      <th>training_score</th>\n",
       "      <th>testing_score</th>\n",
       "    </tr>\n",
       "  </thead>\n",
       "  <tbody>\n",
       "    <tr>\n",
       "      <th>0</th>\n",
       "      <td>Mutinomial Naive Bayes 1</td>\n",
       "      <td>0.85</td>\n",
       "      <td>0.81</td>\n",
       "    </tr>\n",
       "    <tr>\n",
       "      <th>1</th>\n",
       "      <td>Multinomial Naive Bayes 2</td>\n",
       "      <td>0.86</td>\n",
       "      <td>0.81</td>\n",
       "    </tr>\n",
       "    <tr>\n",
       "      <th>2</th>\n",
       "      <td>K Nearest Neighbors</td>\n",
       "      <td>0.91</td>\n",
       "      <td>0.64</td>\n",
       "    </tr>\n",
       "    <tr>\n",
       "      <th>3</th>\n",
       "      <td>Logistic Regression</td>\n",
       "      <td>0.93</td>\n",
       "      <td>0.86</td>\n",
       "    </tr>\n",
       "    <tr>\n",
       "      <th>4</th>\n",
       "      <td>Support Vector Classification</td>\n",
       "      <td>0.99</td>\n",
       "      <td>0.86</td>\n",
       "    </tr>\n",
       "    <tr>\n",
       "      <th>5</th>\n",
       "      <td>Random Forest Classifier</td>\n",
       "      <td>1.00</td>\n",
       "      <td>0.82</td>\n",
       "    </tr>\n",
       "  </tbody>\n",
       "</table>\n",
       "</div>"
      ],
      "text/plain": [
       "                           model  training_score  testing_score\n",
       "0       Mutinomial Naive Bayes 1            0.85           0.81\n",
       "1      Multinomial Naive Bayes 2            0.86           0.81\n",
       "2            K Nearest Neighbors            0.91           0.64\n",
       "3            Logistic Regression            0.93           0.86\n",
       "4  Support Vector Classification            0.99           0.86\n",
       "5       Random Forest Classifier            1.00           0.82"
      ]
     },
     "execution_count": 154,
     "metadata": {},
     "output_type": "execute_result"
    }
   ],
   "source": [
    "final_df"
   ]
  },
  {
   "cell_type": "code",
   "execution_count": 161,
   "metadata": {},
   "outputs": [
    {
     "data": {
      "text/markdown": [
       "model|training_score|testing_score\n",
       "---|---|---\n",
       "Mutinomial Naive Bayes 1|0.85|0.81\n",
       "Multinomial Naive Bayes 2|0.86|0.81\n",
       "K Nearest Neighbors|0.91|0.64\n",
       "Logistic Regression|0.93|0.86\n",
       "Support Vector Classification|0.99|0.86\n",
       "Random Forest Classifier|1.0|0.82\n"
      ],
      "text/plain": [
       "<IPython.core.display.Markdown object>"
      ]
     },
     "metadata": {},
     "output_type": "display_data"
    }
   ],
   "source": [
    "def pandas_df_to_markdown_table(df):\n",
    "    from IPython.display import Markdown, display\n",
    "    fmt = ['---' for i in range(len(df.columns))]\n",
    "    df_fmt = pd.DataFrame([fmt], columns=df.columns)\n",
    "    df_formatted = pd.concat([df_fmt, df])\n",
    "    display(Markdown(df_formatted.to_csv(sep=\"|\", index=False)))\n",
    "\n",
    "pandas_df_to_markdown_table(final_df)"
   ]
  },
  {
   "cell_type": "markdown",
   "metadata": {},
   "source": [
    "## Confusion Matrices"
   ]
  },
  {
   "cell_type": "code",
   "execution_count": 173,
   "metadata": {},
   "outputs": [
    {
     "data": {
      "image/png": "[encoded data removed]",
      "text/plain": [
       "<Figure size 432x288 with 2 Axes>"
      ]
     },
     "metadata": {},
     "output_type": "display_data"
    },
    {
     "data": {
      "image/png": "[encoded data removed]",
      "text/plain": [
       "<Figure size 432x288 with 2 Axes>"
      ]
     },
     "metadata": {},
     "output_type": "display_data"
    },
    {
     "data": {
      "image/png": "[encoded data removed]",
      "text/plain": [
       "<Figure size 432x288 with 2 Axes>"
      ]
     },
     "metadata": {},
     "output_type": "display_data"
    },
    {
     "data": {
      "image/png": "[encoded data removed]",
      "text/plain": [
       "<Figure size 432x288 with 2 Axes>"
      ]
     },
     "metadata": {},
     "output_type": "display_data"
    },
    {
     "data": {
      "image/png": "[encoded data removed]",
      "text/plain": [
       "<Figure size 432x288 with 2 Axes>"
      ]
     },
     "metadata": {},
     "output_type": "display_data"
    },
    {
     "data": {
      "image/png": "[encoded data removed]",
      "text/plain": [
       "<Figure size 432x288 with 2 Axes>"
      ]
     },
     "metadata": {},
     "output_type": "display_data"
    }
   ],
   "source": [
    "# Creating a Confusion Matrix for each model.\n",
    "for model,name in [(gs_nb1,'MNB1'),(gs_nb2,'MNB2'),(gs_knn,'KNN'),(gs_lr,'LogReg'),(gs_svc,'SVC'),(gs_rf,'RandFor')]:\n",
    "    # This confusion matrix code is from class.\n",
    "    # Get predictions for the model in the list\n",
    "    preds = model.predict(X_test)\n",
    "\n",
    "    # save confusion matrix values\n",
    "    tn, fp, fn, tp = confusion_matrix(y_test, preds).ravel()\n",
    "    \n",
    "    # Show the confusion matrix for the model\n",
    "\n",
    "    plot_confusion_matrix(model, X_test, y_test, cmap='Blues', values_format='d')\n",
    "    plt.title(name)\n",
    "    plt.xlabel('Predicted',size=15)\n",
    "    plt.ylabel('Actual',size=15)\n",
    "    plt.xticks(ticks=[0,1],labels=['Predicted Sad', 'Predicted Happy'])\n",
    "    plt.yticks(ticks=[0,1],labels=['Actual Sad', 'Actual Happy'])\n",
    "    plt.savefig('images/'+name+'.png',format='png')\n",
    "    plt.show();"
   ]
  },
  {
   "cell_type": "code",
   "execution_count": null,
   "metadata": {},
   "outputs": [],
   "source": []
  }
 ],
 "metadata": {
  "kernelspec": {
   "display_name": "Python 3",
   "language": "python",
   "name": "python3"
  },
  "language_info": {
   "codemirror_mode": {
    "name": "ipython",
    "version": 3
   },
   "file_extension": ".py",
   "mimetype": "text/x-python",
   "name": "python",
   "nbconvert_exporter": "python",
   "pygments_lexer": "ipython3",
   "version": "3.7.7"
  }
 },
 "nbformat": 4,
 "nbformat_minor": 4
}
